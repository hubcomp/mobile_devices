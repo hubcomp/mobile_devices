{
 "cells": [
  {
   "cell_type": "code",
   "execution_count": null,
   "metadata": {},
   "outputs": [],
   "source": [
    "import pandas as pd\n",
    "import matplotlib\n",
    "import matplotlib.pyplot as plt\n",
    "import numpy as np\n",
    "import math\n",
    "from IPython.display import Markdown,display\n",
    "import datetime\n",
    "import time\n",
    "import re\n",
    "import os\n",
    "\n",
    "\n",
    "def merge_sing_asset(asset_directory):\n",
    "    for idx,filename in enumerate(os.listdir(asset_directory)):\n",
    "        name, file_extension = os.path.splitext(asset_directory+\"/\"+filename)\n",
    "        if file_extension=='.csv':\n",
    "            df=pd.read_csv(asset_directory+\"/\"+filename,parse_dates=[1],na_values=' ')\n",
    "            if(len(df[np.isnan(df['MDI_OBD_FUEL'])])/len(df)<0.5 & len(df[np.isnan(df['MDI_OBD_SPEED'])])/len(df)):#Condition: file big enough with enough fuel and distance information\n",
    "                if (idx ==0):\n",
    "                    merged = df\n",
    "                else:\n",
    "                    merged = merged.append(df,ignore_index=True)                \n",
    "    return merged\n",
    "\n",
    "def merge_sing_asset_col(asset_directory):\n",
    "    for idx,filename in enumerate(os.listdir(asset_directory)):\n",
    "        name, file_extension = os.path.splitext(asset_directory+\"/\"+filename)\n",
    "        if file_extension=='.csv':\n",
    "            df=pd.read_csv(asset_directory+\"/\"+filename,parse_dates=[1],na_values=' ')\n",
    "            if(len(df[np.isnan(df['MDI_OBD_FUEL'])])/len(df)<0.5 & len(df[np.isnan(df['MDI_OBD_SPEED'])])/len(df)):#Condition: file big enough with enough fuel and distance information\n",
    "                df['ride'] = pd.Series(np.full(len(df),idx), index=df.index)\n",
    "                if (idx ==0):\n",
    "                    merged = df\n",
    "                else:\n",
    "                    merged = merged.append(df,ignore_index=True)                \n",
    "    return merged\n",
    "\n",
    "def merge_assets(directory):\n",
    "    for idx,direcname in enumerate(os.listdir(asset_directory)):\n",
    "        if os.path.isdir(os.path.join(asset_directory,direcname)):\n",
    "            if idx == 0 :\n",
    "                merged = merge_sing_asset(os.path.join(asset_directory,direcname))\n",
    "            else:\n",
    "                merged = merged.append(merge_sing_asset(os.path.join(asset_directory,direcname)))\n",
    "    return merged\n",
    "        \n",
    "        \n",
    "        \n",
    "        #print(idx,len(df),len(df[np.isnan(df['MDI_OBD_FUEL'])])/len(df),len(df[np.isnan(df['MDI_OBD_SPEED'])])/len(df),len(df[np.isnan(df['ODO_FULL_METER'])])/len(df))\n"
   ]
  }
 ],
 "metadata": {
  "kernelspec": {
   "display_name": "Python 3",
   "language": "python",
   "name": "python3"
  },
  "language_info": {
   "codemirror_mode": {
    "name": "ipython",
    "version": 3
   },
   "file_extension": ".py",
   "mimetype": "text/x-python",
   "name": "python",
   "nbconvert_exporter": "python",
   "pygments_lexer": "ipython3",
   "version": "3.5.2"
  }
 },
 "nbformat": 4,
 "nbformat_minor": 2
}
