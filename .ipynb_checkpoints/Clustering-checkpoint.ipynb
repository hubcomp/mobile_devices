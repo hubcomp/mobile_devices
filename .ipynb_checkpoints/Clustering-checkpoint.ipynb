{
 "cells": [
  {
   "cell_type": "code",
   "execution_count": 2,
   "metadata": {},
   "outputs": [],
   "source": [
    "import pandas as pd\n",
    "import numpy as np\n",
    "\n",
    "import matplotlib\n",
    "import seaborn\n",
    "import matplotlib.dates as md\n",
    "from matplotlib import pyplot as plt\n",
    "\n",
    "from sklearn import preprocessing\n",
    "from sklearn.decomposition import PCA\n",
    "from sklearn.cluster import KMeans\n",
    "from sklearn.cluster import DBSCAN\n",
    "from sklearn import metrics\n",
    "\n",
    "import datetime\n",
    "import time\n",
    "import re\n",
    "import os\n",
    "\n",
    "# return Series of distance between each point and his distance with the closest centroid\n",
    "def getDistanceByPoint(data, model):\n",
    "    distance = pd.Series()\n",
    "    for i in range(0,len(data)):\n",
    "        Xa = np.array(data.loc[i])\n",
    "        Xb = model.cluster_centers_[model.labels_[i]-1]\n",
    "        distance.set_value(i, np.linalg.norm(Xa-Xb))\n",
    "    return distance\n",
    "\n",
    "#Formats a dataframe to be used directly with scikit\n",
    "def min_max_format(df):\n",
    "    min_max_scaler = preprocessing.StandardScaler()\n",
    "    df= df[~np.isnan(df['MDI_OBD_FUEL']) & ~np.isnan(df['MDI_OBD_SPEED']) ]\n",
    "    df= df[~np.isnan(df['fuel']) ]\n",
    "    df = df[np.isfinite(df['distance_meter']) & np.isfinite(df['distance_speed']) ]\n",
    "    time = df['recorded_at']\n",
    "    X = pd.DataFrame(min_max_scaler.fit_transform(df[['fuel','distance_speed','distance_meter','delay']]),index=df.index)\n",
    "\n",
    "    return [X,time]\n",
    "asset_directory = \"data/data_asset_choosed/487_None\"\n",
    "file_name = \"data/data_asset_choosed/487_None/487_51.csv\"\n",
    "\n",
    "def merge_sing_asset(asset_directory):\n",
    "    First = True\n",
    "    for idx,filename in enumerate(os.listdir(asset_directory)):\n",
    "        name, file_extension = os.path.splitext(asset_directory+\"/\"+filename)\n",
    "        if file_extension=='.csv':\n",
    "            df = pd.read_csv(asset_directory+\"/\"+filename,parse_dates=[1],na_values=' ')\n",
    "            if((len(df)>2000) & (len(df[np.isnan(df['MDI_OBD_FUEL'])])/len(df)<0.5) & (len(df[np.isnan(df['MDI_OBD_SPEED'])])/len(df)<0.5)):#Condition: file big enough with enough fuel and distance information\n",
    "                if (First):\n",
    "                    merged = df\n",
    "                    First = False\n",
    "                else:\n",
    "                    merged = merged.append(df,ignore_index=True)                \n",
    "    return merged\n",
    "#df_asset = merge_sing_asset(asset_directory)\n",
    "\n",
    "#len(df_asset)\n"
   ]
  },
  {
   "cell_type": "code",
   "execution_count": 3,
   "metadata": {},
   "outputs": [],
   "source": [
    "file_name = \"data/data_asset_choosed/487_None/487_51.csv\"\n",
    "df_asset = pd.read_csv(file_name,parse_dates=[1])"
   ]
  },
  {
   "cell_type": "code",
   "execution_count": 4,
   "metadata": {},
   "outputs": [
    {
     "data": {
      "image/png": "[encoded data removed]",
      "text/plain": [
       "<matplotlib.figure.Figure at 0x7f4990948e10>"
      ]
     },
     "metadata": {},
     "output_type": "display_data"
    }
   ],
   "source": [
    "fig = plt.figure(figsize=(5,5))\n",
    "df_fuel = df_asset.loc[~np.isnan(df_asset['fuel']),'fuel']\n",
    "plt.hist(df_fuel,bins=20)\n",
    "plt.show()"
   ]
  },
  {
   "cell_type": "code",
   "execution_count": 5,
   "metadata": {},
   "outputs": [],
   "source": [
    "\n",
    "\n",
    "# Take useful feature and standardize them\n",
    "data = min_max_format(df_asset)[0]\n",
    "# reduce to 2 importants features\n",
    "pca = PCA(n_components=2)\n",
    "data = pca.fit_transform(data)\n",
    "# standardize these 2 new features\n",
    "min_max_scaler = preprocessing.StandardScaler()\n",
    "np_scaled = min_max_scaler.fit_transform(data)\n",
    "data = pd.DataFrame(np_scaled)\n",
    "\n",
    "\n"
   ]
  },
  {
   "cell_type": "code",
   "execution_count": 6,
   "metadata": {},
   "outputs": [
    {
     "data": {
      "image/png": "[encoded data removed]",
      "text/plain": [
       "<matplotlib.figure.Figure at 0x7f495705f6d8>"
      ]
     },
     "metadata": {},
     "output_type": "display_data"
    },
    {
     "data": {
      "text/plain": [
       "<matplotlib.figure.Figure at 0x7f4956fe5588>"
      ]
     },
     "metadata": {},
     "output_type": "display_data"
    }
   ],
   "source": [
    "#Kmeans\n",
    "n_cluster = range(1, 20)\n",
    "kmeans = [KMeans(n_clusters=i).fit(data) for i in n_cluster]\n",
    "scores = [kmeans[i].score(data) for i in range(len(kmeans))]\n",
    "fig, ax = plt.subplots()\n",
    "ax.plot(n_cluster, scores)\n",
    "plt.show()\n",
    "plt.savefig(\"kmeans_nclusters.pdf\")"
   ]
  },
  {
   "cell_type": "code",
   "execution_count": 28,
   "metadata": {},
   "outputs": [
    {
     "data": {
      "text/plain": [
       "0    3312\n",
       "1      17\n",
       "2       2\n",
       "Name: cluster, dtype: int64"
      ]
     },
     "execution_count": 28,
     "metadata": {},
     "output_type": "execute_result"
    }
   ],
   "source": [
    "df = df_asset[~np.isnan(df_asset['fuel']) ]\n",
    "df= df[~np.isnan(df['MDI_OBD_FUEL']) & ~np.isnan(df['MDI_OBD_SPEED']) ]\n",
    "df = df[np.isfinite(df['distance_meter']) & np.isfinite(df['distance_speed']) ]\n",
    "df = df.reset_index(drop=True)\n",
    "df['cluster'] = kmeans[2].predict(data)\n",
    "df['principal_feature1'] = data[0]\n",
    "df['principal_feature2'] = data[1]\n",
    "df['cluster'].value_counts()"
   ]
  },
  {
   "cell_type": "code",
   "execution_count": 29,
   "metadata": {},
   "outputs": [
    {
     "data": {
      "image/png": "[encoded data removed]",
      "text/plain": [
       "<matplotlib.figure.Figure at 0x7f49561baa20>"
      ]
     },
     "metadata": {},
     "output_type": "display_data"
    },
    {
     "data": {
      "text/plain": [
       "<matplotlib.figure.Figure at 0x7f49560af860>"
      ]
     },
     "metadata": {},
     "output_type": "display_data"
    }
   ],
   "source": [
    "fig, ax = plt.subplots()\n",
    "colors = {0:'red', 1:'blue', 2:'green', 3:'pink', 4:'black', 5:'orange', 6:'cyan'}\n",
    "ax.scatter(df['principal_feature1'], df['principal_feature2'], c=df[\"cluster\"].apply(lambda x: colors[x]))\n",
    "plt.show()\n",
    "plt.savefig(\"kmeans_3clusters.pdf\")"
   ]
  },
  {
   "cell_type": "code",
   "execution_count": 30,
   "metadata": {},
   "outputs": [
    {
     "data": {
      "text/html": [
       "<div>\n",
       "<style scoped>\n",
       "    .dataframe tbody tr th:only-of-type {\n",
       "        vertical-align: middle;\n",
       "    }\n",
       "\n",
       "    .dataframe tbody tr th {\n",
       "        vertical-align: top;\n",
       "    }\n",
       "\n",
       "    .dataframe thead th {\n",
       "        text-align: right;\n",
       "    }\n",
       "</style>\n",
       "<table border=\"1\" class=\"dataframe\">\n",
       "  <thead>\n",
       "    <tr style=\"text-align: right;\">\n",
       "      <th></th>\n",
       "      <th>fuel</th>\n",
       "      <th>distance_speed</th>\n",
       "      <th>distance_meter</th>\n",
       "      <th>delay</th>\n",
       "      <th>cluster</th>\n",
       "    </tr>\n",
       "  </thead>\n",
       "  <tbody>\n",
       "    <tr>\n",
       "      <th>1113</th>\n",
       "      <td>84.0</td>\n",
       "      <td>465.000000</td>\n",
       "      <td>381.0</td>\n",
       "      <td>31.0</td>\n",
       "      <td>1</td>\n",
       "    </tr>\n",
       "    <tr>\n",
       "      <th>1114</th>\n",
       "      <td>55.0</td>\n",
       "      <td>0.000000</td>\n",
       "      <td>184.0</td>\n",
       "      <td>30.0</td>\n",
       "      <td>1</td>\n",
       "    </tr>\n",
       "    <tr>\n",
       "      <th>1118</th>\n",
       "      <td>55.0</td>\n",
       "      <td>158.333333</td>\n",
       "      <td>71.0</td>\n",
       "      <td>30.0</td>\n",
       "      <td>1</td>\n",
       "    </tr>\n",
       "    <tr>\n",
       "      <th>1120</th>\n",
       "      <td>86.0</td>\n",
       "      <td>525.000000</td>\n",
       "      <td>140.0</td>\n",
       "      <td>30.0</td>\n",
       "      <td>1</td>\n",
       "    </tr>\n",
       "    <tr>\n",
       "      <th>1121</th>\n",
       "      <td>52.0</td>\n",
       "      <td>275.000000</td>\n",
       "      <td>352.0</td>\n",
       "      <td>30.0</td>\n",
       "      <td>1</td>\n",
       "    </tr>\n",
       "    <tr>\n",
       "      <th>1123</th>\n",
       "      <td>55.0</td>\n",
       "      <td>227.500000</td>\n",
       "      <td>130.0</td>\n",
       "      <td>9.0</td>\n",
       "      <td>1</td>\n",
       "    </tr>\n",
       "    <tr>\n",
       "      <th>1777</th>\n",
       "      <td>11.0</td>\n",
       "      <td>57.222222</td>\n",
       "      <td>3220.0</td>\n",
       "      <td>2.0</td>\n",
       "      <td>2</td>\n",
       "    </tr>\n",
       "    <tr>\n",
       "      <th>1778</th>\n",
       "      <td>13.0</td>\n",
       "      <td>58.333333</td>\n",
       "      <td>3220.0</td>\n",
       "      <td>2.0</td>\n",
       "      <td>2</td>\n",
       "    </tr>\n",
       "    <tr>\n",
       "      <th>3196</th>\n",
       "      <td>73.0</td>\n",
       "      <td>270.833333</td>\n",
       "      <td>255.0</td>\n",
       "      <td>15.0</td>\n",
       "      <td>1</td>\n",
       "    </tr>\n",
       "    <tr>\n",
       "      <th>3203</th>\n",
       "      <td>35.0</td>\n",
       "      <td>120.555556</td>\n",
       "      <td>416.0</td>\n",
       "      <td>31.0</td>\n",
       "      <td>1</td>\n",
       "    </tr>\n",
       "    <tr>\n",
       "      <th>3204</th>\n",
       "      <td>49.0</td>\n",
       "      <td>416.666667</td>\n",
       "      <td>104.0</td>\n",
       "      <td>30.0</td>\n",
       "      <td>1</td>\n",
       "    </tr>\n",
       "    <tr>\n",
       "      <th>3206</th>\n",
       "      <td>13.0</td>\n",
       "      <td>258.333333</td>\n",
       "      <td>78.0</td>\n",
       "      <td>30.0</td>\n",
       "      <td>1</td>\n",
       "    </tr>\n",
       "    <tr>\n",
       "      <th>3209</th>\n",
       "      <td>86.0</td>\n",
       "      <td>111.944444</td>\n",
       "      <td>321.0</td>\n",
       "      <td>31.0</td>\n",
       "      <td>1</td>\n",
       "    </tr>\n",
       "    <tr>\n",
       "      <th>3210</th>\n",
       "      <td>110.0</td>\n",
       "      <td>465.000000</td>\n",
       "      <td>281.0</td>\n",
       "      <td>31.0</td>\n",
       "      <td>1</td>\n",
       "    </tr>\n",
       "    <tr>\n",
       "      <th>3211</th>\n",
       "      <td>95.0</td>\n",
       "      <td>486.111111</td>\n",
       "      <td>384.0</td>\n",
       "      <td>25.0</td>\n",
       "      <td>1</td>\n",
       "    </tr>\n",
       "    <tr>\n",
       "      <th>3319</th>\n",
       "      <td>63.0</td>\n",
       "      <td>310.000000</td>\n",
       "      <td>319.0</td>\n",
       "      <td>31.0</td>\n",
       "      <td>1</td>\n",
       "    </tr>\n",
       "    <tr>\n",
       "      <th>3320</th>\n",
       "      <td>97.0</td>\n",
       "      <td>150.000000</td>\n",
       "      <td>357.0</td>\n",
       "      <td>30.0</td>\n",
       "      <td>1</td>\n",
       "    </tr>\n",
       "    <tr>\n",
       "      <th>3321</th>\n",
       "      <td>90.0</td>\n",
       "      <td>198.055556</td>\n",
       "      <td>351.0</td>\n",
       "      <td>31.0</td>\n",
       "      <td>1</td>\n",
       "    </tr>\n",
       "    <tr>\n",
       "      <th>3322</th>\n",
       "      <td>67.0</td>\n",
       "      <td>50.000000</td>\n",
       "      <td>353.0</td>\n",
       "      <td>30.0</td>\n",
       "      <td>1</td>\n",
       "    </tr>\n",
       "  </tbody>\n",
       "</table>\n",
       "</div>"
      ],
      "text/plain": [
       "       fuel  distance_speed  distance_meter  delay  cluster\n",
       "1113   84.0      465.000000           381.0   31.0        1\n",
       "1114   55.0        0.000000           184.0   30.0        1\n",
       "1118   55.0      158.333333            71.0   30.0        1\n",
       "1120   86.0      525.000000           140.0   30.0        1\n",
       "1121   52.0      275.000000           352.0   30.0        1\n",
       "1123   55.0      227.500000           130.0    9.0        1\n",
       "1777   11.0       57.222222          3220.0    2.0        2\n",
       "1778   13.0       58.333333          3220.0    2.0        2\n",
       "3196   73.0      270.833333           255.0   15.0        1\n",
       "3203   35.0      120.555556           416.0   31.0        1\n",
       "3204   49.0      416.666667           104.0   30.0        1\n",
       "3206   13.0      258.333333            78.0   30.0        1\n",
       "3209   86.0      111.944444           321.0   31.0        1\n",
       "3210  110.0      465.000000           281.0   31.0        1\n",
       "3211   95.0      486.111111           384.0   25.0        1\n",
       "3319   63.0      310.000000           319.0   31.0        1\n",
       "3320   97.0      150.000000           357.0   30.0        1\n",
       "3321   90.0      198.055556           351.0   31.0        1\n",
       "3322   67.0       50.000000           353.0   30.0        1"
      ]
     },
     "execution_count": 30,
     "metadata": {},
     "output_type": "execute_result"
    }
   ],
   "source": [
    "dd = df[['fuel','distance_speed','distance_meter','delay','cluster']]\n",
    "dd[dd['cluster']!=0].head(34)"
   ]
  },
  {
   "cell_type": "code",
   "execution_count": 11,
   "metadata": {},
   "outputs": [
    {
     "name": "stderr",
     "output_type": "stream",
     "text": [
      "/homes/wsahel/.local/lib/python3.5/site-packages/ipykernel_launcher.py:26: FutureWarning: set_value is deprecated and will be removed in a future release. Please use .at[] or .iat[] accessors instead\n"
     ]
    }
   ],
   "source": [
    "# get the distance between each point and its nearest centroid. The biggest distances are considered as anomaly\n",
    "distance = getDistanceByPoint(data, kmeans[6])\n",
    "outliers_fraction = 0.01\n",
    "number_of_outliers = int(outliers_fraction*len(distance))\n",
    "threshold = distance.nlargest(number_of_outliers).min()\n",
    "# anomaly contain the anomaly result  (0:normal, 1:anomaly) \n",
    "df['anomaly'] = (distance >= threshold).astype(int)"
   ]
  },
  {
   "cell_type": "code",
   "execution_count": 12,
   "metadata": {},
   "outputs": [
    {
     "data": {
      "image/png": "[encoded data removed]",
      "text/plain": [
       "<matplotlib.figure.Figure at 0x7f495cbd7c50>"
      ]
     },
     "metadata": {},
     "output_type": "display_data"
    }
   ],
   "source": [
    "fig, ax = plt.subplots()\n",
    "colors = {0:'blue', 1:'red'}\n",
    "ax.scatter(df['principal_feature1'], df['principal_feature2'], c=df[\"anomaly\"].apply(lambda x: colors[x]))\n",
    "plt.show()"
   ]
  },
  {
   "cell_type": "code",
   "execution_count": 21,
   "metadata": {},
   "outputs": [
    {
     "data": {
      "image/png": "[encoded data removed]",
      "text/plain": [
       "<matplotlib.figure.Figure at 0x7f2bede310f0>"
      ]
     },
     "metadata": {},
     "output_type": "display_data"
    }
   ],
   "source": [
    "fig, ax = plt.subplots()\n",
    "\n",
    "a = df.loc[df['anomaly'] == 1, ['recorded_at', 'fuel']] #anomaly\n",
    "\n",
    "ax.plot(df['recorded_at'], df['fuel'], color='blue')\n",
    "ax.plot_date(a['recorded_at'],a['fuel'], color='red')\n",
    "plt.show()"
   ]
  },
  {
   "cell_type": "code",
   "execution_count": 22,
   "metadata": {},
   "outputs": [
    {
     "data": {
      "image/png": "[encoded data removed]",
      "text/plain": [
       "<matplotlib.figure.Figure at 0x7f2bee1af320>"
      ]
     },
     "metadata": {},
     "output_type": "display_data"
    }
   ],
   "source": [
    "fig, ax = plt.subplots()\n",
    "colors = {0:'blue', 1:'red', 2:'red',3:'red',4:'red'}\n",
    "ax.scatter(df[df['anomaly'] == 1]['principal_feature1'], df[df['anomaly'] == 1]['principal_feature2'], c=(np.isnan(df[\"MDI_OBD_FUEL\"])).apply(lambda x: colors[x]))\n",
    "plt.show()"
   ]
  },
  {
   "cell_type": "code",
   "execution_count": 17,
   "metadata": {},
   "outputs": [
    {
     "data": {
      "image/png": "[encoded data removed]",
      "text/plain": [
       "<matplotlib.figure.Figure at 0x7f909ca63908>"
      ]
     },
     "metadata": {},
     "output_type": "display_data"
    }
   ],
   "source": [
    "a = df.loc[df['anomaly'] == 0, 'MDI_OBD_SPEED']\n",
    "b = df.loc[df['anomaly'] == 1, 'MDI_OBD_SPEED']\n",
    "\n",
    "fig, axs = plt.subplots()\n",
    "axs.hist([a,b], bins=32, stacked=True, color=['blue', 'red'], label=['normal', 'anomaly'])\n",
    "plt.legend()\n",
    "plt.show()\n"
   ]
  },
  {
   "cell_type": "code",
   "execution_count": 31,
   "metadata": {},
   "outputs": [
    {
     "name": "stdout",
     "output_type": "stream",
     "text": [
      "Estimated number of clusters: 2\n",
      "Homogeneity: 0.008\n",
      "Completeness: 1.000\n",
      "V-measure: 0.016\n",
      "Adjusted Rand Index: 0.000\n",
      "Adjusted Mutual Information: -0.000\n",
      "Silhouette Coefficient: 0.826\n"
     ]
    },
    {
     "data": {
      "image/png": "[encoded data removed]",
      "text/plain": [
       "<matplotlib.figure.Figure at 0x7f4956d42940>"
      ]
     },
     "metadata": {},
     "output_type": "display_data"
    }
   ],
   "source": [
    "#DBSCAN\n",
    "\n",
    "db = DBSCAN(eps=1, min_samples=5).fit(data)\n",
    "core_samples_mask = np.zeros_like(db.labels_, dtype=bool)\n",
    "core_samples_mask[db.core_sample_indices_] = True\n",
    "labels = db.labels_\n",
    "labels_true = df.index\n",
    "# Number of clusters in labels, ignoring noise if present.\n",
    "n_clusters_ = len(set(labels)) - (1 if -1 in labels else 0)\n",
    "\n",
    "print('Estimated number of clusters: %d' % n_clusters_)\n",
    "print(\"Homogeneity: %0.3f\" % metrics.homogeneity_score(labels_true, labels))\n",
    "print(\"Completeness: %0.3f\" % metrics.completeness_score(labels_true, labels))\n",
    "print(\"V-measure: %0.3f\" % metrics.v_measure_score(labels_true, labels))\n",
    "print(\"Adjusted Rand Index: %0.3f\"\n",
    "      % metrics.adjusted_rand_score(labels_true, labels))\n",
    "print(\"Adjusted Mutual Information: %0.3f\"\n",
    "      % metrics.adjusted_mutual_info_score(labels_true, labels))\n",
    "print(\"Silhouette Coefficient: %0.3f\"\n",
    "      % metrics.silhouette_score(data, labels))\n",
    "\n",
    "# Black removed and is used for noise instead.\n",
    "unique_labels = set(labels)\n",
    "colors = [plt.cm.Spectral(each)\n",
    "          for each in np.linspace(0, 1, len(unique_labels))]\n",
    "for k, col in zip(unique_labels, colors):\n",
    "    if k == -1:\n",
    "        # Black used for noise.\n",
    "        col = [0, 0, 0, 1]\n",
    "\n",
    "    class_member_mask = (labels == k)\n",
    "\n",
    "    xy = data[class_member_mask & core_samples_mask]\n",
    "    plt.plot(xy.values[:, 0], xy.values[:, 1], 'o', markerfacecolor=tuple(col),\n",
    "             markeredgecolor='k', markersize=14)\n",
    "\n",
    "    xy = data[class_member_mask & ~core_samples_mask]\n",
    "    plt.plot(xy.values[:, 0], xy.values[:, 1], 'o', markerfacecolor=tuple(col),\n",
    "             markeredgecolor='k', markersize=6)\n",
    "\n",
    "plt.title('Estimated number of clusters: %d' % n_clusters_)\n",
    "plt.show()\n",
    "plt.savefig(\"dbscan_clusters.pdf\")\n"
   ]
  }
 ],
 "metadata": {
  "kernelspec": {
   "display_name": "Python 3",
   "language": "python",
   "name": "python3"
  },
  "language_info": {
   "codemirror_mode": {
    "name": "ipython",
    "version": 3
   },
   "file_extension": ".py",
   "mimetype": "text/x-python",
   "name": "python",
   "nbconvert_exporter": "python",
   "pygments_lexer": "ipython3",
   "version": "3.5.2"
  }
 },
 "nbformat": 4,
 "nbformat_minor": 2
}
