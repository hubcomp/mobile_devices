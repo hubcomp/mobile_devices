{
 "cells": [
  {
   "cell_type": "code",
   "execution_count": null,
   "metadata": {},
   "outputs": [],
   "source": [
    "import pandas as pd\n",
    "import matplotlib\n",
    "import matplotlib.pyplot as plt\n",
    "import numpy as np\n",
    "import math\n",
    "from IPython.display import Markdown,display\n",
    "import datetime\n",
    "import time\n",
    "import re"
   ]
  },
  {
   "cell_type": "code",
   "execution_count": null,
   "metadata": {},
   "outputs": [],
   "source": [
    "def generate_rides_new_info(file_name,interval,directory):\n",
    "    df_asset=pd.read_csv(directory+file_name,parse_dates=[1])\n",
    "    df_asset['GPS_SPEED']=pd.to_numeric(df_asset['GPS_SPEED'],errors='coerce')\n",
    "    df_asset['MDI_OBD_SPEED']=pd.to_numeric(df_asset['MDI_OBD_SPEED'],errors='coerce')\n",
    "    df_asset['MDI_OBD_RPM']=pd.to_numeric(df_asset['MDI_OBD_RPM'],errors='coerce')\n",
    "    df_asset['MDI_OBD_ENGINE_LOAD']=pd.to_numeric(df_asset['MDI_OBD_ENGINE_LOAD'],errors='coerce')\n",
    "    df_asset['MDI_OBD_FUEL']=pd.to_numeric(df_asset['MDI_OBD_FUEL'],errors='coerce')\n",
    "    df_asset['ODO_FULL_METER']=pd.to_numeric(df_asset['ODO_FULL_METER'],errors='coerce')\n",
    "    df_asset['MDI_DASHBOARD_MILEAGE']=pd.to_numeric(df_asset['MDI_DASHBOARD_MILEAGE'],errors='coerce')\n",
    "    ride_list=divide_asset_by_time(df_delay,interval)\n",
    "    for idx,df in enumerate(ride_list):\n",
    "        df=df.reset_index()\n",
    "        df['distance_speed']= pd.Series(np.empty(len(df)), index=df.index)\n",
    "        df['distance_meter']= pd.Series(np.empty(len(df)), index=df.index)\n",
    "        df['delay']= pd.Series(np.empty(len(df)), index=df.index)\n",
    "        df['fuel']= pd.Series(np.empty(len(df)), index=df.index)\n",
    "        df['delay_fuel']= pd.Series(np.empty(len(df)), index=df.index)\n",
    "        df['delay_speed']= pd.Series(np.empty(len(df)), index=df.index)\n",
    "        df['delay_meter']= pd.Series(np.empty(len(df)), index=df.index)\n",
    "        df['average_speed_5']= pd.Series(np.empty(len(df)), index=df.index)\n",
    "        df['average_speed_15']= pd.Series(np.empty(len(df)), index=df.index)\n",
    "        df['average_speed_60']= pd.Series(np.empty(len(df)), index=df.index)\n",
    "        df['average_speed_dist100']= pd.Series(np.empty(len(df)), index=df.index)\n",
    "        df['average_speed_dist1000']= pd.Series(np.empty(len(df)), index=df.index)\n",
    "        last_fuel=df['MDI_OBD_FUEL'][0]\n",
    "        for i in range(1,len(df)):\n",
    "             #Condition\n",
    "            if(df['MDI_OBD_SPEED'][i].notnull()){\n",
    "            #Filling\n",
    "                last_speed_time=df['recorded_at'][i]\n",
    "                last_speed=df['MDI_OBD_FUEL'][i]\n",
    "            }else if(last_speed.notnull() and df['recorded_at'][i]-last_speed_time < ){\n",
    "                df['MDI_OBD_SPEED'][i]=last_speed\n",
    "            }\n",
    "            #Condition\n",
    "            if(df['MDI_OBD_FUEL'][i].notnull())\n",
    "            {\n",
    "                if(last_fuel.notnull())\n",
    "                {\n",
    "                    df['fuel'][i]=df['MDI_OBD_FUEL'][i]-last_fuel   \n",
    "                }\n",
    "            #Filling\n",
    "                last_fuel=df['MDI_OBD_FUEL'][i]\n",
    "            }\n",
    "            df['delay'][i]=df['recorded_at'][i]-df['recorded_at'][i-1]\n",
    "            df['distance'][i] = (df['recorded_at'][i]-df['recorded_at'][i-1]).total_seconds()*df['MDI_OBD_SPEED'][i]/3600\n",
    "            \n",
    "            \n",
    "        df['delay'][0]=np.nan\n",
    "        df_name=directory+\"/\"file_name+\"_\"+str(idx)\n",
    "        df.to_csv(df_name)\n",
    "        return None\n"
   ]
  }
 ],
 "metadata": {
  "kernelspec": {
   "display_name": "Python 3",
   "language": "python",
   "name": "python3"
  },
  "language_info": {
   "codemirror_mode": {
    "name": "ipython",
    "version": 3
   },
   "file_extension": ".py",
   "mimetype": "text/x-python",
   "name": "python",
   "nbconvert_exporter": "python",
   "pygments_lexer": "ipython3",
   "version": "3.5.2"
  }
 },
 "nbformat": 4,
 "nbformat_minor": 2
}
